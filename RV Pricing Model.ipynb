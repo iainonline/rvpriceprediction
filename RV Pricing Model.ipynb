{
 "cells": [
  {
   "cell_type": "code",
   "execution_count": 249,
   "metadata": {},
   "outputs": [
    {
     "name": "stdout",
     "output_type": "stream",
     "text": [
      "Dataset\n",
      "       Brand Model Variant    Year Condition    Miles     Interior\n",
      "0  Winnebago  Ekko     22A  2022.0      Used  20600.0  Leatherette\n",
      "1  Winnebago  Ekko     22A  2022.0      Used  18664.0  Leatherette\n",
      "2  Winnebago  Ekko     22A  2024.0       New      0.0  Leatherette\n",
      "Target data\n",
      "0    128000.0\n",
      "1    157900.0\n",
      "2    232056.0\n",
      "Name: Asking, dtype: float64\n"
     ]
    }
   ],
   "source": [
    "# Import necessary libraries\n",
    "import pandas as pd\n",
    "from sklearn.model_selection import train_test_split\n",
    "from sklearn.ensemble import RandomForestRegressor\n",
    "from sklearn.metrics import mean_squared_error\n",
    "from sklearn.preprocessing import OneHotEncoder\n",
    "\n",
    "# Define the username and file path\n",
    "username = 'iain'\n",
    "file_path = f'C:\\\\Users\\\\{username}\\\\Desktop\\\\RV_Price_Info.csv'\n",
    "\n",
    "# Read the CSV file\n",
    "df = pd.read_csv(file_path)\n",
    "\n",
    "# remove any rows with missing values\n",
    "df = df.dropna()\n",
    "\n",
    "# drop the link column\n",
    "df = df.drop('Link', axis=1)\n",
    "\n",
    "# drop the ID column\n",
    "df = df.drop('ID', axis=1)\n",
    "\n",
    "# Assuming 'Asking' is the target variable\n",
    "X = df.drop('Asking', axis=1)\n",
    "y = df['Asking']\n",
    "\n",
    "# display the data\n",
    "print('Dataset')\n",
    "print(X.head())\n",
    "\n",
    "print('Target data')\n",
    "print(y.head())"
   ]
  },
  {
   "cell_type": "code",
   "execution_count": 250,
   "metadata": {},
   "outputs": [
    {
     "name": "stdout",
     "output_type": "stream",
     "text": [
      "     Year    Miles  Brand_Winnebago  Model_Ekko  Variant_22A  Condition_New   \n",
      "0  2022.0  20600.0             True        True         True          False  \\\n",
      "1  2022.0  18664.0             True        True         True          False   \n",
      "2  2024.0      0.0             True        True         True           True   \n",
      "\n",
      "   Condition_Used  Interior_Leatherette  \n",
      "0            True                  True  \n",
      "1            True                  True  \n",
      "2           False                  True  \n"
     ]
    }
   ],
   "source": [
    "# one hot encode only the following columns\n",
    "columnstoonehot = ['Brand', 'Model', 'Variant', 'Condition', 'Interior']\n",
    "X = pd.get_dummies(X, columns=columnstoonehot)\n",
    "print(X.head())"
   ]
  },
  {
   "cell_type": "code",
   "execution_count": 251,
   "metadata": {},
   "outputs": [
    {
     "name": "stdout",
     "output_type": "stream",
     "text": [
      "Index(['Year', 'Miles', 'Brand_Winnebago', 'Model_Ekko', 'Variant_22A',\n",
      "       'Condition_New', 'Condition_Used', 'Interior_Leatherette'],\n",
      "      dtype='object')\n"
     ]
    }
   ],
   "source": [
    "# write the table columns to an array\n",
    "columnsAfterOneHot = X.columns\n",
    "print(columnsAfterOneHot)"
   ]
  },
  {
   "cell_type": "code",
   "execution_count": 252,
   "metadata": {},
   "outputs": [],
   "source": [
    "# convert all columns with bools to float64\n",
    "for column in X.columns:\n",
    "    if X[column].dtype == 'bool':\n",
    "        X[column] = X[column].astype('float64')"
   ]
  },
  {
   "cell_type": "code",
   "execution_count": 253,
   "metadata": {},
   "outputs": [
    {
     "name": "stdout",
     "output_type": "stream",
     "text": [
      "float64\n"
     ]
    }
   ],
   "source": [
    "# display data types for y\n",
    "print(y.dtypes)"
   ]
  },
  {
   "cell_type": "code",
   "execution_count": 254,
   "metadata": {},
   "outputs": [],
   "source": [
    "# create a random forest regressor model\n",
    "model = RandomForestRegressor()\n",
    "\n",
    "# create an instance of the one hot encoder\n",
    "ohe = OneHotEncoder()\n",
    "\n",
    "# split the data into training and testing sets\n",
    "X_train, X_test, y_train, y_test = train_test_split(X, y, test_size=0.2)"
   ]
  },
  {
   "cell_type": "code",
   "execution_count": 255,
   "metadata": {},
   "outputs": [
    {
     "name": "stdout",
     "output_type": "stream",
     "text": [
      "Mean Squared Error: 6326293444.0\n"
     ]
    }
   ],
   "source": [
    "# fit the model to the training data\n",
    "model.fit(X_train, y_train)\n",
    "\n",
    "# make predictions on the testing data\n",
    "y_pred = model.predict(X_test)\n",
    "\n",
    "# calculate the mean squared error\n",
    "mse = mean_squared_error(y_test, y_pred)\n",
    "print(f'Mean Squared Error: {mse}')\n",
    "\n",
    "\n"
   ]
  },
  {
   "cell_type": "code",
   "execution_count": 256,
   "metadata": {},
   "outputs": [
    {
     "name": "stdout",
     "output_type": "stream",
     "text": [
      "{'Year': [2022.0], 'Miles': [10000.0], 'Brand_Winnebago': [True], 'Model_Ekko': [True], 'Variant_22A': [True], 'Condition_New': [False], 'Condition_Used': [True], 'Interior_Leatherette': [True]}\n"
     ]
    }
   ],
   "source": [
    "# create a dictionary of data to predict which is manually one hot encoded\n",
    "data = {\n",
    "    'Year': [2022.0],\n",
    "    'Miles': [10000.0],\n",
    "    'Brand_Winnebago': [True],\n",
    "    'Model_Ekko': [True],\n",
    "    'Variant_22A': [True],\n",
    "    'Condition_New': [False],\n",
    "    'Condition_Used': [True],\n",
    "    'Interior_Leatherette': [True]\n",
    "}\n",
    "\n",
    "print(data)"
   ]
  },
  {
   "cell_type": "code",
   "execution_count": 257,
   "metadata": {},
   "outputs": [
    {
     "name": "stdout",
     "output_type": "stream",
     "text": [
      "     Year    Miles  Brand_Winnebago  Model_Ekko  Variant_22A  Condition_New   \n",
      "0  2022.0  10000.0             True        True         True          False  \\\n",
      "\n",
      "   Condition_Used  Interior_Leatherette  \n",
      "0            True                  True  \n",
      "Index(['Year', 'Miles', 'Brand_Winnebago', 'Model_Ekko', 'Variant_22A',\n",
      "       'Condition_New', 'Condition_Used', 'Interior_Leatherette'],\n",
      "      dtype='object')\n",
      "Year                    float64\n",
      "Miles                   float64\n",
      "Brand_Winnebago            bool\n",
      "Model_Ekko                 bool\n",
      "Variant_22A                bool\n",
      "Condition_New              bool\n",
      "Condition_Used             bool\n",
      "Interior_Leatherette       bool\n",
      "dtype: object\n"
     ]
    }
   ],
   "source": [
    "# convert the dictionary to a dataframe\n",
    "df = pd.DataFrame(data)\n",
    "\n",
    "# display the dataframe\n",
    "print(df)\n",
    "\n",
    "# print the columns of the dataframe and dtypes\n",
    "print(df.columns)\n",
    "\n",
    "# display the data types of the columns\n",
    "print(df.dtypes)"
   ]
  },
  {
   "cell_type": "code",
   "execution_count": 258,
   "metadata": {},
   "outputs": [],
   "source": [
    "# convert the Year and Miles columns to float\n",
    "df['Year'] = df['Year'].astype(float)"
   ]
  },
  {
   "cell_type": "code",
   "execution_count": 259,
   "metadata": {},
   "outputs": [
    {
     "name": "stdout",
     "output_type": "stream",
     "text": [
      "Predicted Price: $152,518.00\n"
     ]
    }
   ],
   "source": [
    "price = model.predict(df)\n",
    "\n",
    "#print the predicted price with $ sign\n",
    "print(f'Predicted Price: ${price[0]:,.2f}')"
   ]
  }
 ],
 "metadata": {
  "kernelspec": {
   "display_name": "Python 3",
   "language": "python",
   "name": "python3"
  },
  "language_info": {
   "codemirror_mode": {
    "name": "ipython",
    "version": 3
   },
   "file_extension": ".py",
   "mimetype": "text/x-python",
   "name": "python",
   "nbconvert_exporter": "python",
   "pygments_lexer": "ipython3",
   "version": "3.9.6"
  }
 },
 "nbformat": 4,
 "nbformat_minor": 2
}
